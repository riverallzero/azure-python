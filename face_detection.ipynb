{
 "cells": [
  {
   "cell_type": "markdown",
   "execution_count": null,
   "outputs": [],
   "source": [
    "# Face-Detection"
   ],
   "metadata": {
    "collapsed": false
   },
   "id": "51628b7fac09d805"
  },
  {
   "cell_type": "code",
   "execution_count": 1,
   "outputs": [
    {
     "name": "stdout",
     "output_type": "stream",
     "text": [
      "Requirement already satisfied: azure.cognitiveservices.vision.face in /Users/loa/anaconda3/envs/codezero/lib/python3.11/site-packages (0.6.0)\r\n",
      "Requirement already satisfied: msrest>=0.5.0 in /Users/loa/anaconda3/envs/codezero/lib/python3.11/site-packages (from azure.cognitiveservices.vision.face) (0.7.1)\r\n",
      "Requirement already satisfied: azure-common~=1.1 in /Users/loa/anaconda3/envs/codezero/lib/python3.11/site-packages (from azure.cognitiveservices.vision.face) (1.1.28)\r\n",
      "Requirement already satisfied: azure-core>=1.24.0 in /Users/loa/anaconda3/envs/codezero/lib/python3.11/site-packages (from msrest>=0.5.0->azure.cognitiveservices.vision.face) (1.29.6)\r\n",
      "Requirement already satisfied: certifi>=2017.4.17 in /Users/loa/anaconda3/envs/codezero/lib/python3.11/site-packages (from msrest>=0.5.0->azure.cognitiveservices.vision.face) (2023.11.17)\r\n",
      "Requirement already satisfied: isodate>=0.6.0 in /Users/loa/anaconda3/envs/codezero/lib/python3.11/site-packages (from msrest>=0.5.0->azure.cognitiveservices.vision.face) (0.6.1)\r\n",
      "Requirement already satisfied: requests-oauthlib>=0.5.0 in /Users/loa/anaconda3/envs/codezero/lib/python3.11/site-packages (from msrest>=0.5.0->azure.cognitiveservices.vision.face) (1.3.1)\r\n",
      "Requirement already satisfied: requests~=2.16 in /Users/loa/anaconda3/envs/codezero/lib/python3.11/site-packages (from msrest>=0.5.0->azure.cognitiveservices.vision.face) (2.31.0)\r\n",
      "Requirement already satisfied: anyio<5.0,>=3.0 in /Users/loa/anaconda3/envs/codezero/lib/python3.11/site-packages (from azure-core>=1.24.0->msrest>=0.5.0->azure.cognitiveservices.vision.face) (4.2.0)\r\n",
      "Requirement already satisfied: six>=1.11.0 in /Users/loa/anaconda3/envs/codezero/lib/python3.11/site-packages (from azure-core>=1.24.0->msrest>=0.5.0->azure.cognitiveservices.vision.face) (1.16.0)\r\n",
      "Requirement already satisfied: typing-extensions>=4.6.0 in /Users/loa/anaconda3/envs/codezero/lib/python3.11/site-packages (from azure-core>=1.24.0->msrest>=0.5.0->azure.cognitiveservices.vision.face) (4.9.0)\r\n",
      "Requirement already satisfied: charset-normalizer<4,>=2 in /Users/loa/anaconda3/envs/codezero/lib/python3.11/site-packages (from requests~=2.16->msrest>=0.5.0->azure.cognitiveservices.vision.face) (3.3.2)\r\n",
      "Requirement already satisfied: idna<4,>=2.5 in /Users/loa/anaconda3/envs/codezero/lib/python3.11/site-packages (from requests~=2.16->msrest>=0.5.0->azure.cognitiveservices.vision.face) (3.6)\r\n",
      "Requirement already satisfied: urllib3<3,>=1.21.1 in /Users/loa/anaconda3/envs/codezero/lib/python3.11/site-packages (from requests~=2.16->msrest>=0.5.0->azure.cognitiveservices.vision.face) (2.1.0)\r\n",
      "Requirement already satisfied: oauthlib>=3.0.0 in /Users/loa/anaconda3/envs/codezero/lib/python3.11/site-packages (from requests-oauthlib>=0.5.0->msrest>=0.5.0->azure.cognitiveservices.vision.face) (3.2.2)\r\n",
      "Requirement already satisfied: sniffio>=1.1 in /Users/loa/anaconda3/envs/codezero/lib/python3.11/site-packages (from anyio<5.0,>=3.0->azure-core>=1.24.0->msrest>=0.5.0->azure.cognitiveservices.vision.face) (1.3.0)\r\n"
     ]
    }
   ],
   "source": [
    "!pip install azure.cognitiveservices.vision.face"
   ],
   "metadata": {
    "collapsed": false,
    "ExecuteTime": {
     "start_time": "2024-02-07T11:27:21.584975Z"
    }
   },
   "id": "initial_id"
  },
  {
   "cell_type": "code",
   "execution_count": 2,
   "outputs": [],
   "source": [
    "import os\n",
    "import cv2\n",
    "import requests\n",
    "\n",
    "from azure.cognitiveservices.vision.face import FaceClient\n",
    "from msrest.authentication import CognitiveServicesCredentials"
   ],
   "metadata": {
    "collapsed": false,
    "ExecuteTime": {
     "end_time": "2024-02-07T11:27:34.121897Z",
     "start_time": "2024-02-07T11:27:33.729879Z"
    }
   },
   "id": "3f8e2b88d460957c"
  },
  {
   "cell_type": "code",
   "execution_count": 3,
   "outputs": [],
   "source": [
    "SUBSCRIPTION_KEY = 'face_api_key'\n",
    "\n",
    "FACE_LOCATION = 'eastus'\n",
    "\n",
    "face_base_url = 'https://{}.api.cognitive.microsoft.com'.format(FACE_LOCATION)\n",
    "face_client = FaceClient(face_base_url, CognitiveServicesCredentials(SUBSCRIPTION_KEY))"
   ],
   "metadata": {
    "collapsed": false,
    "ExecuteTime": {
     "end_time": "2024-02-07T11:28:42.764851Z",
     "start_time": "2024-02-07T11:28:42.761807Z"
    }
   },
   "id": "560dfff0647d1287"
  },
  {
   "cell_type": "markdown",
   "source": [
    "## Data"
   ],
   "metadata": {
    "collapsed": false
   },
   "id": "b8671b702c37cdb9"
  },
  {
   "cell_type": "code",
   "execution_count": 4,
   "outputs": [],
   "source": [
    "# 타겟 이미지(하나의 얼굴)\n",
    "remote_image_URL_1 = \"https://www.whitehouse.gov/wp-content/uploads/2021/04/P20210303AS-1901-cropped.jpg?w=1536\"\n",
    "\n",
    "# 찾고자하는 이미지(여러개의 얼굴)\n",
    "remote_image_URL_2 = \"https://s3.amazonaws.com/cms.ipressroom.com/401/files/202306/64884603a1383572d389f375_Biden_Harris_750x500/Biden_Harris_750x500_1fee04a2-06a2-4d51-a67b-6caf4343d977-prv.jpg\""
   ],
   "metadata": {
    "collapsed": false,
    "ExecuteTime": {
     "end_time": "2024-02-07T11:28:58.580971Z",
     "start_time": "2024-02-07T11:28:58.571832Z"
    }
   },
   "id": "1834363082666d25"
  },
  {
   "cell_type": "markdown",
   "source": [
    "### remote_image_URL_1\n",
    "\n",
    "![](https://www.whitehouse.gov/wp-content/uploads/2021/04/P20210303AS-1901-cropped.jpg?w=1536)\n",
    "\n",
    "### remote_image_URL_2\n",
    "\n",
    "![](https://s3.amazonaws.com/cms.ipressroom.com/401/files/202306/64884603a1383572d389f375_Biden_Harris_750x500/Biden_Harris_750x500_1fee04a2-06a2-4d51-a67b-6caf4343d977-prv.jpg)"
   ],
   "metadata": {
    "collapsed": false
   },
   "id": "7008865f72d9733b"
  },
  {
   "cell_type": "markdown",
   "source": [
    "## Detect"
   ],
   "metadata": {
    "collapsed": false
   },
   "id": "d3e00b7139539060"
  },
  {
   "cell_type": "code",
   "execution_count": 6,
   "outputs": [],
   "source": [
    "def detect_faces(face_client, image_url):\n",
    "\tprint (\"Detecting faces...\")\n",
    "\tdetected_faces = face_client.face.detect_with_url(url=image_url)\n",
    "\tif not detected_faces:\n",
    "\t\traise Exception('No face detected from image {}'.format(image_url))\n",
    "\tif not detected_faces[0]:\n",
    "\t\traise Exception(\"Parameter return_face_id of detect_with_stream or detect_with_url must be set to true (by default) for recognition purpose.\")\n",
    "\treturn detected_faces"
   ],
   "metadata": {
    "collapsed": false,
    "ExecuteTime": {
     "end_time": "2024-02-07T11:34:02.583526Z",
     "start_time": "2024-02-07T11:34:02.575242Z"
    }
   },
   "id": "2b2f1f0f0e1669cb"
  },
  {
   "cell_type": "code",
   "execution_count": 7,
   "outputs": [],
   "source": [
    "# @face_ID 와 @face_IDs 에서 유사한 얼굴 찾기\n",
    "def find_similar_faces(face_client, face_ID, face_IDs):\n",
    "\tprint(\"Finding similar faces ...\")\n",
    "\treturn face_client.face.find_similar(face_id=face_ID, face_ids=face_IDs)\n"
   ],
   "metadata": {
    "collapsed": false,
    "ExecuteTime": {
     "end_time": "2024-02-07T11:34:09.865078Z",
     "start_time": "2024-02-07T11:34:09.856540Z"
    }
   },
   "id": "79fa6ee342d10a57"
  },
  {
   "cell_type": "code",
   "execution_count": 18,
   "outputs": [
    {
     "name": "stdout",
     "output_type": "stream",
     "text": [
      "Detecting faces...\n",
      "Face IDs of faces detected in https://www.whitehouse.gov/wp-content/uploads/2021/04/P20210303AS-1901-cropped.jpg?w=1536:\n",
      "7fd0be11-4f7a-4ce2-8e76-181e06eb08ce\n",
      "Using first face ID.\n",
      "Detecting faces...\n",
      "Face IDs of faces detected in https://s3.amazonaws.com/cms.ipressroom.com/401/files/202306/64884603a1383572d389f375_Biden_Harris_750x500/Biden_Harris_750x500_1fee04a2-06a2-4d51-a67b-6caf4343d977-prv.jpg:\n",
      "37edf589-21aa-480a-ab75-865ae352211e\n",
      "02cd27f0-4897-4610-9ac9-756a20c334e8\n",
      "Finding similar faces ...\n",
      "Similar faces found in https://s3.amazonaws.com/cms.ipressroom.com/401/files/202306/64884603a1383572d389f375_Biden_Harris_750x500/Biden_Harris_750x500_1fee04a2-06a2-4d51-a67b-6caf4343d977-prv.jpg:\n",
      "Face ID: 37edf589-21aa-480a-ab75-865ae352211e\n",
      "Face rectangle:\n",
      "Left: 220\n",
      "Top: 82\n",
      "Width: 112\n",
      "Height: 112\n"
     ]
    },
    {
     "name": "stderr",
     "output_type": "stream",
     "text": [
      "/Users/loa/anaconda3/envs/codezero/lib/python3.11/site-packages/urllib3/connectionpool.py:1099: InsecureRequestWarning: Unverified HTTPS request is being made to host 'www.whitehouse.gov'. Adding certificate verification is strongly advised. See: https://urllib3.readthedocs.io/en/latest/advanced-usage.html#tls-warnings\n",
      "  warnings.warn(\n",
      "/Users/loa/anaconda3/envs/codezero/lib/python3.11/site-packages/urllib3/connectionpool.py:1099: InsecureRequestWarning: Unverified HTTPS request is being made to host 's3.amazonaws.com'. Adding certificate verification is strongly advised. See: https://urllib3.readthedocs.io/en/latest/advanced-usage.html#tls-warnings\n",
      "  warnings.warn(\n"
     ]
    }
   ],
   "source": [
    "# 첫번째 이미지에서 얼굴 탐지\n",
    "faces_1 = detect_faces(face_client, remote_image_URL_1)\n",
    "if not faces_1[0]:\n",
    "\tprint(\"No faces detected in \" + remote_image_URL_1 + \".\")\n",
    "else:\n",
    "\tprint(\"Face IDs of faces detected in \" + remote_image_URL_1 + \":\")\n",
    "\tfor x in faces_1: print (x.face_id)\n",
    "\n",
    "\tprint(\"Using first face ID.\")\n",
    "\tface_ID = faces_1[0].face_id\n",
    "\n",
    "\t# 두번째 이미지에서 얼굴 탐지(리스트)\n",
    "\tfaces_2 = detect_faces(face_client, remote_image_URL_2)\n",
    "\tif not faces_2[0]:\n",
    "\t\tprint(\"No faces detected in \" + remote_image_URL_2 + \".\")\n",
    "\telse:\n",
    "\t\tprint(\"Face IDs of faces detected in \" + remote_image_URL_2 + \":\")\n",
    "\t\tfor x in faces_2: print (x.face_id)\n",
    "\n",
    "\t\t# 두번째 이미지 얼굴들에서 첮번째 얼굴과 유사한 것 탐지\n",
    "\t\tsimilar_faces = find_similar_faces(face_client, face_ID, list(map(lambda x: x.face_id, faces_2)))\n",
    "\t\tif not similar_faces[0]:\n",
    "\t\t\tprint(\"No similar faces found in \" + remote_image_URL_2 + \".\")\n",
    "\t\telse:\n",
    "\t\t\tprint(\"Similar faces found in \" + remote_image_URL_2 + \":\")\n",
    "\t\t\tfor face in similar_faces:\n",
    "\t\t\t\tface_ID = face.face_id\n",
    "\n",
    "\t\t\t\tface_info = next(x for x in faces_2 if x.face_id == face_ID)\n",
    "\t\t\t\tif face_info:\n",
    "\t\t\t\t\tprint(\"Face ID: \" + face_ID)\n",
    "\t\t\t\t\tprint(\"Face rectangle:\")\n",
    "\t\t\t\t\tprint(\"Left: \" + str(face_info.face_rectangle.left))\n",
    "\t\t\t\t\tprint(\"Top: \" + str(face_info.face_rectangle.top))\n",
    "\t\t\t\t\tprint(\"Width: \" + str(face_info.face_rectangle.width))\n",
    "\t\t\t\t\tprint(\"Height: \" + str(face_info.face_rectangle.height))\n",
    "\n",
    "\t\t\t\t\tfor image_url, filename in zip([remote_image_URL_1, remote_image_URL_2], ['image_target.png', 'image.png']):\n",
    "\t\t\t\t\t\timages_dir = './result'\n",
    "\t\t\t\t\t\tif not os.path.exists(images_dir):\n",
    "\t\t\t\t\t\t\tos.makedirs(images_dir)\n",
    "\n",
    "\t\t\t\t\t\twith open(os.path.join(images_dir, filename), 'wb') as f:\n",
    "\t\t\t\t\t\t\tresponse = requests.get(image_url, stream=True, verify=False)\n",
    "\t\t\t\t\t\t\tf.write(response.content)\n",
    "\n",
    "\t\t\t\t\timage = cv2.imread('./result/image.png')\n",
    "\n",
    "\t\t\t\t\tcv2.rectangle(image, (face_info.face_rectangle.left, face_info.face_rectangle.top), (face_info.face_rectangle.left + face_info.face_rectangle.width, face_info.face_rectangle.top + face_info.face_rectangle.height), (0, 255, 0), 2)\n",
    "\t\t\t\t\tcv2.imwrite('./result/face_detect.png', image)"
   ],
   "metadata": {
    "collapsed": false,
    "ExecuteTime": {
     "end_time": "2024-02-07T11:36:58.942647Z",
     "start_time": "2024-02-07T11:36:55.230996Z"
    }
   },
   "id": "5f7ee43847d49ba7"
  },
  {
   "cell_type": "markdown",
   "source": [
    "## Result\n",
    "![](https://github.com/riverallzero/azure-python/assets/93754504/36a84560-aa41-483a-8baa-643f24b8a300)"
   ],
   "metadata": {
    "collapsed": false
   },
   "id": "fe1d9f142fb220f6"
  }
 ],
 "metadata": {
  "kernelspec": {
   "display_name": "Python 3",
   "language": "python",
   "name": "python3"
  },
  "language_info": {
   "codemirror_mode": {
    "name": "ipython",
    "version": 2
   },
   "file_extension": ".py",
   "mimetype": "text/x-python",
   "name": "python",
   "nbconvert_exporter": "python",
   "pygments_lexer": "ipython2",
   "version": "2.7.6"
  }
 },
 "nbformat": 4,
 "nbformat_minor": 5
}
