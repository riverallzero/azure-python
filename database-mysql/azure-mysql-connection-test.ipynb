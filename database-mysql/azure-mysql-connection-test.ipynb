{
 "cells": [
  {
   "cell_type": "markdown",
   "source": [
    "# Database with MySQL"
   ],
   "metadata": {
    "collapsed": false
   },
   "id": "b9c593e0aa7075e8"
  },
  {
   "cell_type": "code",
   "execution_count": 1,
   "outputs": [
    {
     "name": "stdout",
     "output_type": "stream",
     "text": [
      "Requirement already satisfied: mysql-connector-python in /Users/loa/anaconda3/envs/codezero/lib/python3.11/site-packages (8.3.0)\r\n"
     ]
    }
   ],
   "source": [
    "!pip install mysql-connector-python"
   ],
   "metadata": {
    "collapsed": false,
    "ExecuteTime": {
     "end_time": "2024-02-25T06:48:28.856394Z",
     "start_time": "2024-02-25T06:48:27.850804Z"
    }
   },
   "id": "d78a106899ee3197"
  },
  {
   "cell_type": "code",
   "execution_count": 2,
   "id": "initial_id",
   "metadata": {
    "collapsed": true,
    "ExecuteTime": {
     "end_time": "2024-02-25T06:48:29.760262Z",
     "start_time": "2024-02-25T06:48:29.726142Z"
    }
   },
   "outputs": [],
   "source": [
    "import mysql.connector\n",
    "from mysql.connector import errorcode"
   ]
  },
  {
   "cell_type": "code",
   "execution_count": 3,
   "outputs": [],
   "source": [
    "config = {\n",
    "  'host': '<server-name>.mysql.database.azure.com',\n",
    "  'user': '<user-name>',\n",
    "  'password': '<password>',\n",
    "  'database': '<database-name>',\n",
    "}"
   ],
   "metadata": {
    "collapsed": false,
    "ExecuteTime": {
     "end_time": "2024-02-25T06:48:33.466984Z",
     "start_time": "2024-02-25T06:48:33.460322Z"
    }
   },
   "id": "2cf34974ac2b1f39"
  },
  {
   "cell_type": "code",
   "execution_count": 4,
   "outputs": [
    {
     "name": "stdout",
     "output_type": "stream",
     "text": [
      "Connection established\n"
     ]
    }
   ],
   "source": [
    "try:\n",
    "   conn = mysql.connector.connect(**config)\n",
    "   print(\"Connection established\")\n",
    "except mysql.connector.Error as err:\n",
    "  if err.errno == errorcode.ER_ACCESS_DENIED_ERROR:\n",
    "    print(\"Something is wrong with the user name or password\")\n",
    "  elif err.errno == errorcode.ER_BAD_DB_ERROR:\n",
    "    print(\"Database does not exist\")\n",
    "  else:\n",
    "    print(err)\n",
    "else:\n",
    "  cursor = conn.cursor()"
   ],
   "metadata": {
    "collapsed": false,
    "ExecuteTime": {
     "end_time": "2024-02-25T06:48:35.852049Z",
     "start_time": "2024-02-25T06:48:35.694861Z"
    }
   },
   "id": "6796008da1d7803a"
  },
  {
   "cell_type": "code",
   "execution_count": 6,
   "outputs": [],
   "source": [
    "  # Delete table\n",
    "  # cursor.execute(\"DROP TABLE inventory;\")\n",
    "  # cursor.execute(\"DROP TABLE IF EXISTS inventory;\")"
   ],
   "metadata": {
    "collapsed": false,
    "ExecuteTime": {
     "end_time": "2024-02-25T06:49:50.654385Z",
     "start_time": "2024-02-25T06:49:50.594329Z"
    }
   },
   "id": "f3dc8c57aee03b52"
  },
  {
   "cell_type": "code",
   "execution_count": 7,
   "outputs": [
    {
     "name": "stdout",
     "output_type": "stream",
     "text": [
      "Finished creating table.\n"
     ]
    }
   ],
   "source": [
    "  # Create table\n",
    "  cursor.execute(\"CREATE TABLE inventory (id serial PRIMARY KEY, title VARCHAR(50), contents VARCHAR(300));\")\n",
    "  print(\"Finished creating table.\")"
   ],
   "metadata": {
    "collapsed": false,
    "ExecuteTime": {
     "end_time": "2024-02-25T06:49:52.104371Z",
     "start_time": "2024-02-25T06:49:52.009516Z"
    }
   },
   "id": "283aab8dff6c21a7"
  },
  {
   "cell_type": "code",
   "execution_count": 8,
   "outputs": [
    {
     "name": "stdout",
     "output_type": "stream",
     "text": [
      "Inserted 1 row(s) of data.\n"
     ]
    }
   ],
   "source": [
    "  # Insert some data into table\n",
    "  cursor.execute(\"INSERT INTO inventory (title, contents) VALUES (%s, %s);\", (\"토익보카 공부\", \"챕터 3, 단어 100개 암기\"))\n",
    "  print(\"Inserted\",cursor.rowcount,\"row(s) of data.\")"
   ],
   "metadata": {
    "collapsed": false,
    "ExecuteTime": {
     "end_time": "2024-02-25T06:49:54.601133Z",
     "start_time": "2024-02-25T06:49:54.577548Z"
    }
   },
   "id": "7a592a157f302419"
  },
  {
   "cell_type": "code",
   "execution_count": 9,
   "outputs": [
    {
     "name": "stdout",
     "output_type": "stream",
     "text": [
      "Read 1 row(s) of data.\n"
     ]
    }
   ],
   "source": [
    "  # Read data\n",
    "  cursor.execute(\"SELECT * FROM inventory;\")\n",
    "  rows = cursor.fetchall()\n",
    "  print(\"Read\",cursor.rowcount,\"row(s) of data.\")"
   ],
   "metadata": {
    "collapsed": false,
    "ExecuteTime": {
     "end_time": "2024-02-25T06:49:56.632688Z",
     "start_time": "2024-02-25T06:49:56.609348Z"
    }
   },
   "id": "73a24f7074499389"
  },
  {
   "cell_type": "code",
   "execution_count": 10,
   "outputs": [
    {
     "name": "stdout",
     "output_type": "stream",
     "text": [
      "Data row = (1, 토익보카 공부, 챕터 3, 단어 100개 암기)\n"
     ]
    }
   ],
   "source": [
    "  # Print all rows\n",
    "  for row in rows:\n",
    "  \tprint(\"Data row = (%s, %s, %s)\" %(str(row[0]), str(row[1]), str(row[2])))"
   ],
   "metadata": {
    "collapsed": false,
    "ExecuteTime": {
     "end_time": "2024-02-25T06:49:58.131231Z",
     "start_time": "2024-02-25T06:49:58.124752Z"
    }
   },
   "id": "7fe7b55792aca9f"
  },
  {
   "cell_type": "code",
   "execution_count": 11,
   "outputs": [
    {
     "name": "stdout",
     "output_type": "stream",
     "text": [
      "Deleted 1 row(s) of data.\n"
     ]
    }
   ],
   "source": [
    "  # Delete a data row in the table\n",
    "  cursor.execute(\"DELETE FROM inventory WHERE title=%(param1)s;\", {'param1':\"토익보카 공부\"})\n",
    "  print(\"Deleted\",cursor.rowcount,\"row(s) of data.\")"
   ],
   "metadata": {
    "collapsed": false,
    "ExecuteTime": {
     "end_time": "2024-02-25T06:50:01.470841Z",
     "start_time": "2024-02-25T06:50:01.444107Z"
    }
   },
   "id": "37d03e9065958665"
  },
  {
   "cell_type": "code",
   "execution_count": 12,
   "outputs": [
    {
     "name": "stdout",
     "output_type": "stream",
     "text": [
      "Read 0 row(s) of data.\n"
     ]
    }
   ],
   "source": [
    "  # Read data\n",
    "  cursor.execute(\"SELECT * FROM inventory;\")\n",
    "  rows = cursor.fetchall()\n",
    "  print(\"Read\",cursor.rowcount,\"row(s) of data.\")"
   ],
   "metadata": {
    "collapsed": false,
    "ExecuteTime": {
     "end_time": "2024-02-25T06:50:02.416137Z",
     "start_time": "2024-02-25T06:50:02.391620Z"
    }
   },
   "id": "d3f0370d8bf6e77"
  },
  {
   "cell_type": "code",
   "execution_count": 13,
   "outputs": [
    {
     "name": "stdout",
     "output_type": "stream",
     "text": [
      "Done.\n"
     ]
    }
   ],
   "source": [
    "  # Cleanup\n",
    "  conn.commit()\n",
    "  cursor.close()\n",
    "  conn.close()\n",
    "  print(\"Done.\")"
   ],
   "metadata": {
    "collapsed": false,
    "ExecuteTime": {
     "end_time": "2024-02-25T06:50:03.667014Z",
     "start_time": "2024-02-25T06:50:03.662059Z"
    }
   },
   "id": "c6496f905b3b9f57"
  }
 ],
 "metadata": {
  "kernelspec": {
   "display_name": "Python 3",
   "language": "python",
   "name": "python3"
  },
  "language_info": {
   "codemirror_mode": {
    "name": "ipython",
    "version": 2
   },
   "file_extension": ".py",
   "mimetype": "text/x-python",
   "name": "python",
   "nbconvert_exporter": "python",
   "pygments_lexer": "ipython2",
   "version": "2.7.6"
  }
 },
 "nbformat": 4,
 "nbformat_minor": 5
}
