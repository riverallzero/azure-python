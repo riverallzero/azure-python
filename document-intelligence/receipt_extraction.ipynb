{
 "cells": [
  {
   "cell_type": "markdown",
   "source": [
    "# Receipt-Extraction"
   ],
   "metadata": {
    "collapsed": false
   },
   "id": "2f6e1031bfb94421"
  },
  {
   "cell_type": "code",
   "execution_count": 1,
   "outputs": [
    {
     "name": "stdout",
     "output_type": "stream",
     "text": [
      "Requirement already satisfied: azure-ai-formrecognizer in /Users/loa/anaconda3/envs/codezero/lib/python3.11/site-packages (3.3.2)\r\n",
      "Requirement already satisfied: azure-core<2.0.0,>=1.23.0 in /Users/loa/anaconda3/envs/codezero/lib/python3.11/site-packages (from azure-ai-formrecognizer) (1.29.6)\r\n",
      "Requirement already satisfied: msrest>=0.6.21 in /Users/loa/anaconda3/envs/codezero/lib/python3.11/site-packages (from azure-ai-formrecognizer) (0.7.1)\r\n",
      "Requirement already satisfied: azure-common~=1.1 in /Users/loa/anaconda3/envs/codezero/lib/python3.11/site-packages (from azure-ai-formrecognizer) (1.1.28)\r\n",
      "Requirement already satisfied: typing-extensions>=4.0.1 in /Users/loa/anaconda3/envs/codezero/lib/python3.11/site-packages (from azure-ai-formrecognizer) (4.9.0)\r\n",
      "Requirement already satisfied: anyio<5.0,>=3.0 in /Users/loa/anaconda3/envs/codezero/lib/python3.11/site-packages (from azure-core<2.0.0,>=1.23.0->azure-ai-formrecognizer) (4.2.0)\r\n",
      "Requirement already satisfied: requests>=2.21.0 in /Users/loa/anaconda3/envs/codezero/lib/python3.11/site-packages (from azure-core<2.0.0,>=1.23.0->azure-ai-formrecognizer) (2.31.0)\r\n",
      "Requirement already satisfied: six>=1.11.0 in /Users/loa/anaconda3/envs/codezero/lib/python3.11/site-packages (from azure-core<2.0.0,>=1.23.0->azure-ai-formrecognizer) (1.16.0)\r\n",
      "Requirement already satisfied: certifi>=2017.4.17 in /Users/loa/anaconda3/envs/codezero/lib/python3.11/site-packages (from msrest>=0.6.21->azure-ai-formrecognizer) (2023.11.17)\r\n",
      "Requirement already satisfied: isodate>=0.6.0 in /Users/loa/anaconda3/envs/codezero/lib/python3.11/site-packages (from msrest>=0.6.21->azure-ai-formrecognizer) (0.6.1)\r\n",
      "Requirement already satisfied: requests-oauthlib>=0.5.0 in /Users/loa/anaconda3/envs/codezero/lib/python3.11/site-packages (from msrest>=0.6.21->azure-ai-formrecognizer) (1.3.1)\r\n",
      "Requirement already satisfied: idna>=2.8 in /Users/loa/anaconda3/envs/codezero/lib/python3.11/site-packages (from anyio<5.0,>=3.0->azure-core<2.0.0,>=1.23.0->azure-ai-formrecognizer) (3.6)\r\n",
      "Requirement already satisfied: sniffio>=1.1 in /Users/loa/anaconda3/envs/codezero/lib/python3.11/site-packages (from anyio<5.0,>=3.0->azure-core<2.0.0,>=1.23.0->azure-ai-formrecognizer) (1.3.0)\r\n",
      "Requirement already satisfied: charset-normalizer<4,>=2 in /Users/loa/anaconda3/envs/codezero/lib/python3.11/site-packages (from requests>=2.21.0->azure-core<2.0.0,>=1.23.0->azure-ai-formrecognizer) (3.3.2)\r\n",
      "Requirement already satisfied: urllib3<3,>=1.21.1 in /Users/loa/anaconda3/envs/codezero/lib/python3.11/site-packages (from requests>=2.21.0->azure-core<2.0.0,>=1.23.0->azure-ai-formrecognizer) (2.1.0)\r\n",
      "Requirement already satisfied: oauthlib>=3.0.0 in /Users/loa/anaconda3/envs/codezero/lib/python3.11/site-packages (from requests-oauthlib>=0.5.0->msrest>=0.6.21->azure-ai-formrecognizer) (3.2.2)\r\n"
     ]
    }
   ],
   "source": [
    "!pip install azure-ai-formrecognizer"
   ],
   "metadata": {
    "collapsed": false,
    "ExecuteTime": {
     "end_time": "2024-02-19T06:59:53.443714Z",
     "start_time": "2024-02-19T06:59:52.359013Z"
    }
   },
   "id": "34a688277a44f8f2"
  },
  {
   "cell_type": "code",
   "execution_count": 26,
   "outputs": [],
   "source": [
    "from azure.core.credentials import AzureKeyCredential\n",
    "from azure.ai.formrecognizer import DocumentAnalysisClient\n",
    "import pandas as pd\n",
    "import os"
   ],
   "metadata": {
    "collapsed": false,
    "ExecuteTime": {
     "end_time": "2024-02-19T07:19:00.800909Z",
     "start_time": "2024-02-19T07:19:00.792541Z"
    }
   },
   "id": "d37644c6b61965b0"
  },
  {
   "cell_type": "markdown",
   "source": [
    "## setting"
   ],
   "metadata": {
    "collapsed": false
   },
   "id": "9e9aed2f26e8eb6"
  },
  {
   "cell_type": "code",
   "execution_count": 3,
   "outputs": [],
   "source": [
    "# document intelligence resource\n",
    "endpoint = \"endpoint\"\n",
    "key = \"key\""
   ],
   "metadata": {
    "collapsed": false,
    "ExecuteTime": {
     "end_time": "2024-02-19T06:59:57.115725Z",
     "start_time": "2024-02-19T06:59:57.109408Z"
    }
   },
   "id": "2e2c7f733a447dd7"
  },
  {
   "cell_type": "code",
   "execution_count": 4,
   "outputs": [],
   "source": [
    "# receipt image\n",
    "url = \"https://raw.githubusercontent.com/Azure/azure-sdk-for-python/main/sdk/formrecognizer/azure-ai-formrecognizer/tests/sample_forms/receipt/contoso-receipt.png\""
   ],
   "metadata": {
    "collapsed": false,
    "ExecuteTime": {
     "end_time": "2024-02-19T06:59:57.551325Z",
     "start_time": "2024-02-19T06:59:57.548248Z"
    }
   },
   "id": "cac15bc48020975a"
  },
  {
   "cell_type": "markdown",
   "source": [
    "## analyze"
   ],
   "metadata": {
    "collapsed": false
   },
   "id": "7acef02d3a486061"
  },
  {
   "cell_type": "code",
   "execution_count": 12,
   "outputs": [],
   "source": [
    "document_analysis_client = DocumentAnalysisClient(\n",
    "    endpoint=endpoint, credential=AzureKeyCredential(key)\n",
    ")\n",
    "\n",
    "poller = document_analysis_client.begin_analyze_document_from_url(\"prebuilt-receipt\", url)\n",
    "receipts = poller.result()\n",
    "\n",
    "analysis_result = \"\"\n",
    "for idx, receipt in enumerate(receipts.documents):\n",
    "    merchant_name = receipt.fields.get(\"MerchantName\")\n",
    "    if merchant_name:\n",
    "        analysis_result += f\"merchant-name: {merchant_name.value}\\n\"\n",
    "\n",
    "    transaction_date = receipt.fields.get(\"TransactionDate\")\n",
    "    if transaction_date:\n",
    "        analysis_result += f\"date: {transaction_date.value}\\n\"\n",
    "\n",
    "    if receipt.fields.get(\"Items\"):\n",
    "        for idx, item in enumerate(receipt.fields.get(\"Items\").value):\n",
    "            analysis_result += f\"item #{idx+1}\\n\"\n",
    "            item_description = item.value.get(\"Description\")\n",
    "            if item_description:\n",
    "                analysis_result += f\"---- name: {item_description.value}\\n\"\n",
    "\n",
    "            item_quantity = item.value.get(\"Quantity\")\n",
    "            if item_quantity:\n",
    "                analysis_result += f\"---- quantity: {item_quantity.value}\\n\"\n",
    "\n",
    "            item_price = item.value.get(\"Price\")\n",
    "            if item_price:\n",
    "                analysis_result += f\"---- individual-price: {item_price.value}\\n\"\n",
    "\n",
    "            item_total_price = item.value.get(\"TotalPrice\")\n",
    "            if item_total_price:\n",
    "                analysis_result += f\"---- total-price: {item_total_price.value}\\n\"\n",
    "\n",
    "    tax = receipt.fields.get(\"TotalTax\")\n",
    "    if tax:\n",
    "        analysis_result += f\"tax: {tax.value}\"\n",
    "    tip = receipt.fields.get(\"Tip\")\n",
    "    if tip:\n",
    "        analysis_result += f\"tip: {tip.value}\""
   ],
   "metadata": {
    "collapsed": false,
    "ExecuteTime": {
     "end_time": "2024-02-19T07:02:23.315985Z",
     "start_time": "2024-02-19T07:02:16.743820Z"
    }
   },
   "id": "9cbf3d18a84cdbcf"
  },
  {
   "cell_type": "code",
   "execution_count": 15,
   "outputs": [
    {
     "name": "stdout",
     "output_type": "stream",
     "text": [
      "merchant-name: Contoso\n",
      "date: 2019-06-10\n",
      "item #1\n",
      "---- name: Surface Pro 6\n",
      "---- quantity: 1.0\n",
      "---- total-price: 999.0\n",
      "item #2\n",
      "---- name: SurfacePen\n",
      "---- quantity: 1.0\n",
      "---- total-price: 99.99\n",
      "tax: 104.4\n"
     ]
    }
   ],
   "source": [
    "data = analysis_result.strip()\n",
    "print(data)"
   ],
   "metadata": {
    "collapsed": false,
    "ExecuteTime": {
     "end_time": "2024-02-19T07:02:56.196943Z",
     "start_time": "2024-02-19T07:02:56.188695Z"
    }
   },
   "id": "dfd39c838eb572be"
  },
  {
   "cell_type": "markdown",
   "source": [
    "## make file"
   ],
   "metadata": {
    "collapsed": false
   },
   "id": "b00a0365a0a4bced"
  },
  {
   "cell_type": "code",
   "execution_count": 31,
   "outputs": [],
   "source": [
    "lines = data.strip().split('\\n')\n",
    "\n",
    "item_indices = [index for index, line in enumerate(lines) if line.startswith(\"item #\")]\n",
    "\n",
    "merchant = [lines[0].split(\": \")[-1] for value in range(len(item_indices)+1)]\n",
    "date = [lines[1].split(\": \")[1] for value in range(len(item_indices)+1)]\n",
    "item  = [lines[index+1].split(\": \")[-1] for index in item_indices]\n",
    "quantity = [lines[index+2].split(\": \")[-1] for index in item_indices]\n",
    "price = [lines[index+3].split(\": \")[-1] for index in item_indices]\n",
    "\n",
    "tax = lines[-1].split(\": \")[1]\n",
    "\n",
    "item.append(\"Tax\")\n",
    "quantity.append(\" \")\n",
    "price.append(tax)\n",
    "\n",
    "df = pd.DataFrame(\n",
    "    {\n",
    "        \"Merchant\": merchant,\n",
    "        \"Date\": date,\n",
    "        \"Item\": item,\n",
    "        \"Quantity\": quantity,\n",
    "        \"Price\": price\n",
    "    }\n",
    ")\n",
    "\n",
    "if not os.path.isfile(os.path.join(\"receipt.csv\")):\n",
    "    df.to_csv(\"receipt.csv\", encoding=\"utf-8-sig\", index=False)\n",
    "else:\n",
    "    df_origin = pd.read_csv(\"receipt.csv\")\n",
    "\n",
    "    df2 = pd.concat([df_origin, df])\n",
    "    df2 = df2.drop_duplicates()\n",
    "    df2.to_csv(\"receipt.csv\", encoding=\"utf-8-sig\", index=False)"
   ],
   "metadata": {
    "collapsed": false,
    "ExecuteTime": {
     "end_time": "2024-02-19T07:22:47.186974Z",
     "start_time": "2024-02-19T07:22:47.174356Z"
    }
   },
   "id": "9d2ccecec861f38f"
  },
  {
   "cell_type": "code",
   "execution_count": 30,
   "outputs": [
    {
     "data": {
      "text/plain": "  Merchant        Date           Item Quantity  Price\n0  Contoso  2019-06-10  Surface Pro 6      1.0  999.0\n1  Contoso  2019-06-10     SurfacePen      1.0  99.99\n2  Contoso  2019-06-10            Tax           104.4",
      "text/html": "<div>\n<style scoped>\n    .dataframe tbody tr th:only-of-type {\n        vertical-align: middle;\n    }\n\n    .dataframe tbody tr th {\n        vertical-align: top;\n    }\n\n    .dataframe thead th {\n        text-align: right;\n    }\n</style>\n<table border=\"1\" class=\"dataframe\">\n  <thead>\n    <tr style=\"text-align: right;\">\n      <th></th>\n      <th>Merchant</th>\n      <th>Date</th>\n      <th>Item</th>\n      <th>Quantity</th>\n      <th>Price</th>\n    </tr>\n  </thead>\n  <tbody>\n    <tr>\n      <th>0</th>\n      <td>Contoso</td>\n      <td>2019-06-10</td>\n      <td>Surface Pro 6</td>\n      <td>1.0</td>\n      <td>999.0</td>\n    </tr>\n    <tr>\n      <th>1</th>\n      <td>Contoso</td>\n      <td>2019-06-10</td>\n      <td>SurfacePen</td>\n      <td>1.0</td>\n      <td>99.99</td>\n    </tr>\n    <tr>\n      <th>2</th>\n      <td>Contoso</td>\n      <td>2019-06-10</td>\n      <td>Tax</td>\n      <td></td>\n      <td>104.4</td>\n    </tr>\n  </tbody>\n</table>\n</div>"
     },
     "execution_count": 30,
     "metadata": {},
     "output_type": "execute_result"
    }
   ],
   "source": [
    "df"
   ],
   "metadata": {
    "collapsed": false,
    "ExecuteTime": {
     "end_time": "2024-02-19T07:20:02.055078Z",
     "start_time": "2024-02-19T07:20:02.048050Z"
    }
   },
   "id": "d0bcc846ea0c9ce"
  }
 ],
 "metadata": {
  "kernelspec": {
   "display_name": "Python 3",
   "language": "python",
   "name": "python3"
  },
  "language_info": {
   "codemirror_mode": {
    "name": "ipython",
    "version": 2
   },
   "file_extension": ".py",
   "mimetype": "text/x-python",
   "name": "python",
   "nbconvert_exporter": "python",
   "pygments_lexer": "ipython2",
   "version": "2.7.6"
  }
 },
 "nbformat": 4,
 "nbformat_minor": 5
}
