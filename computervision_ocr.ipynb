{
  "nbformat": 4,
  "nbformat_minor": 0,
  "metadata": {
    "colab": {
      "provenance": []
    },
    "kernelspec": {
      "name": "python3",
      "display_name": "Python 3"
    },
    "language_info": {
      "name": "python"
    }
  },
  "cells": [
    {
      "cell_type": "code",
      "source": [
        "!pip install azure.cognitiveservices.vision.computervision"
      ],
      "metadata": {
        "colab": {
          "base_uri": "https://localhost:8080/"
        },
        "id": "p60RaLi-SaNq",
        "outputId": "851e7d04-c947-4b70-b204-72f4b7187bb3"
      },
      "execution_count": null,
      "outputs": [
        {
          "output_type": "stream",
          "name": "stdout",
          "text": [
            "Collecting azure.cognitiveservices.vision.computervision\n",
            "  Downloading azure_cognitiveservices_vision_computervision-0.9.0-py2.py3-none-any.whl (39 kB)\n",
            "Collecting msrest>=0.5.0 (from azure.cognitiveservices.vision.computervision)\n",
            "  Downloading msrest-0.7.1-py3-none-any.whl (85 kB)\n",
            "\u001b[2K     \u001b[90m━━━━━━━━━━━━━━━━━━━━━━━━━━━━━━━━━━━━━━━━\u001b[0m \u001b[32m85.4/85.4 kB\u001b[0m \u001b[31m2.8 MB/s\u001b[0m eta \u001b[36m0:00:00\u001b[0m\n",
            "\u001b[?25hCollecting azure-common~=1.1 (from azure.cognitiveservices.vision.computervision)\n",
            "  Downloading azure_common-1.1.28-py2.py3-none-any.whl (14 kB)\n",
            "Collecting azure-core>=1.24.0 (from msrest>=0.5.0->azure.cognitiveservices.vision.computervision)\n",
            "  Downloading azure_core-1.29.6-py3-none-any.whl (192 kB)\n",
            "\u001b[2K     \u001b[90m━━━━━━━━━━━━━━━━━━━━━━━━━━━━━━━━━━━━━━━━\u001b[0m \u001b[32m192.5/192.5 kB\u001b[0m \u001b[31m5.3 MB/s\u001b[0m eta \u001b[36m0:00:00\u001b[0m\n",
            "\u001b[?25hRequirement already satisfied: certifi>=2017.4.17 in /usr/local/lib/python3.10/dist-packages (from msrest>=0.5.0->azure.cognitiveservices.vision.computervision) (2023.11.17)\n",
            "Collecting isodate>=0.6.0 (from msrest>=0.5.0->azure.cognitiveservices.vision.computervision)\n",
            "  Downloading isodate-0.6.1-py2.py3-none-any.whl (41 kB)\n",
            "\u001b[2K     \u001b[90m━━━━━━━━━━━━━━━━━━━━━━━━━━━━━━━━━━━━━━━━\u001b[0m \u001b[32m41.7/41.7 kB\u001b[0m \u001b[31m3.7 MB/s\u001b[0m eta \u001b[36m0:00:00\u001b[0m\n",
            "\u001b[?25hRequirement already satisfied: requests-oauthlib>=0.5.0 in /usr/local/lib/python3.10/dist-packages (from msrest>=0.5.0->azure.cognitiveservices.vision.computervision) (1.3.1)\n",
            "Requirement already satisfied: requests~=2.16 in /usr/local/lib/python3.10/dist-packages (from msrest>=0.5.0->azure.cognitiveservices.vision.computervision) (2.31.0)\n",
            "Requirement already satisfied: anyio<5.0,>=3.0 in /usr/local/lib/python3.10/dist-packages (from azure-core>=1.24.0->msrest>=0.5.0->azure.cognitiveservices.vision.computervision) (3.7.1)\n",
            "Requirement already satisfied: six>=1.11.0 in /usr/local/lib/python3.10/dist-packages (from azure-core>=1.24.0->msrest>=0.5.0->azure.cognitiveservices.vision.computervision) (1.16.0)\n",
            "Collecting typing-extensions>=4.6.0 (from azure-core>=1.24.0->msrest>=0.5.0->azure.cognitiveservices.vision.computervision)\n",
            "  Downloading typing_extensions-4.9.0-py3-none-any.whl (32 kB)\n",
            "Requirement already satisfied: charset-normalizer<4,>=2 in /usr/local/lib/python3.10/dist-packages (from requests~=2.16->msrest>=0.5.0->azure.cognitiveservices.vision.computervision) (3.3.2)\n",
            "Requirement already satisfied: idna<4,>=2.5 in /usr/local/lib/python3.10/dist-packages (from requests~=2.16->msrest>=0.5.0->azure.cognitiveservices.vision.computervision) (3.6)\n",
            "Requirement already satisfied: urllib3<3,>=1.21.1 in /usr/local/lib/python3.10/dist-packages (from requests~=2.16->msrest>=0.5.0->azure.cognitiveservices.vision.computervision) (2.0.7)\n",
            "Requirement already satisfied: oauthlib>=3.0.0 in /usr/local/lib/python3.10/dist-packages (from requests-oauthlib>=0.5.0->msrest>=0.5.0->azure.cognitiveservices.vision.computervision) (3.2.2)\n",
            "Requirement already satisfied: sniffio>=1.1 in /usr/local/lib/python3.10/dist-packages (from anyio<5.0,>=3.0->azure-core>=1.24.0->msrest>=0.5.0->azure.cognitiveservices.vision.computervision) (1.3.0)\n",
            "Requirement already satisfied: exceptiongroup in /usr/local/lib/python3.10/dist-packages (from anyio<5.0,>=3.0->azure-core>=1.24.0->msrest>=0.5.0->azure.cognitiveservices.vision.computervision) (1.2.0)\n",
            "Installing collected packages: azure-common, typing-extensions, isodate, azure-core, msrest, azure.cognitiveservices.vision.computervision\n",
            "  Attempting uninstall: typing-extensions\n",
            "    Found existing installation: typing_extensions 4.5.0\n",
            "    Uninstalling typing_extensions-4.5.0:\n",
            "      Successfully uninstalled typing_extensions-4.5.0\n",
            "\u001b[31mERROR: pip's dependency resolver does not currently take into account all the packages that are installed. This behaviour is the source of the following dependency conflicts.\n",
            "tensorflow-probability 0.22.0 requires typing-extensions<4.6.0, but you have typing-extensions 4.9.0 which is incompatible.\u001b[0m\u001b[31m\n",
            "\u001b[0mSuccessfully installed azure-common-1.1.28 azure-core-1.29.6 azure.cognitiveservices.vision.computervision-0.9.0 isodate-0.6.1 msrest-0.7.1 typing-extensions-4.9.0\n"
          ]
        }
      ]
    },
    {
      "cell_type": "code",
      "source": [
        "from azure.cognitiveservices.vision.computervision import ComputerVisionClient\n",
        "from azure.cognitiveservices.vision.computervision.models import OperationStatusCodes\n",
        "from msrest.authentication import CognitiveServicesCredentials\n",
        "import time"
      ],
      "metadata": {
        "id": "exu_lSr7SFsK"
      },
      "execution_count": null,
      "outputs": []
    },
    {
      "cell_type": "markdown",
      "source": [
        "<img src=\"https://www.jobindexworld.com/_upload/contents/202009/GqCIDnEicmtEpA40.png\" width=\"50%\"/>"
      ],
      "metadata": {
        "id": "SAhEbDEGTIXX"
      }
    },
    {
      "cell_type": "code",
      "source": [
        "subscription_key = 'computer_vision_key'\n",
        "endpoint = 'computer_vision_endpoint'\n",
        "\n",
        "computervision_client = ComputerVisionClient(endpoint, CognitiveServicesCredentials(subscription_key))\n",
        "\n",
        "image_path = '/content/ex.png'\n",
        "local_image = open(image_path, 'rb')\n",
        "\n",
        "read_response = computervision_client.read_in_stream(local_image, raw=True)\n",
        "read_operation_location = read_response.headers['Operation-Location']\n",
        "operation_id = read_operation_location.split('/')[-1]\n",
        "\n",
        "while True:\n",
        "    read_result = computervision_client.get_read_result(operation_id)\n",
        "    if read_result.status not in ['notStarted', 'running']:\n",
        "        break\n",
        "    time.sleep(1)\n",
        "\n",
        "text_results = []\n",
        "if read_result.status == OperationStatusCodes.succeeded:\n",
        "    text_results = [line.text for text_result in read_result.analyze_result.read_results for line in\n",
        "                    text_result.lines]\n",
        "\n",
        "print(text_results)"
      ],
      "metadata": {
        "colab": {
          "base_uri": "https://localhost:8080/"
        },
        "id": "PibffzBAR8Cc",
        "outputId": "b4c60cb4-57d0-443d-8896-9c33c0cc3d26"
      },
      "execution_count": null,
      "outputs": [
        {
          "output_type": "stream",
          "name": "stdout",
          "text": [
            "['수십 번 넘어져도 젊음을 무기 삼아', '도전하라', '뜨거운 열정보다 중요한 것은', '\"', '지속적인 열정이다']\n"
          ]
        }
      ]
    }
  ]
}